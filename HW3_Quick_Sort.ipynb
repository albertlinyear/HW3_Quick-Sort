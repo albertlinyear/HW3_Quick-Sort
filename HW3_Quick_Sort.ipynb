{
  "nbformat": 4,
  "nbformat_minor": 0,
  "metadata": {
    "colab": {
      "provenance": []
    },
    "kernelspec": {
      "name": "python3",
      "display_name": "Python 3"
    },
    "language_info": {
      "name": "python"
    }
  },
  "cells": [
    {
      "cell_type": "code",
      "execution_count": 7,
      "metadata": {
        "colab": {
          "base_uri": "https://localhost:8080/"
        },
        "id": "4FD7RUDVvdSF",
        "outputId": "3e5b69f4-b0ae-45db-d80d-dad8c159667c"
      },
      "outputs": [
        {
          "output_type": "stream",
          "name": "stdout",
          "text": [
            "🧪 原始資料: [33, 67, 8, 13, 54, 119, 3, 84, 25, 41]\n",
            "\n",
            "📍 QuickSort(0, 9) 開始，pivot=33 @ index 0\n",
            "陣列: [33, 67, 8, 13, 54, 119, 3, 84, 25, 41]\n",
            "  🔄 交換 arr[1]=67 和 arr[8]=25\n",
            "  ➡️  交換後陣列: [33, 25, 8, 13, 54, 119, 3, 84, 67, 41]\n",
            "  🔄 交換 arr[4]=54 和 arr[6]=3\n",
            "  ➡️  交換後陣列: [33, 25, 8, 13, 3, 119, 54, 84, 67, 41]\n",
            "  🔃 將 pivot arr[0]=33 和 arr[4]=3 交換\n",
            "  ✅ Pivot 交換後: [3, 25, 8, 13, 33, 119, 54, 84, 67, 41]\n",
            "\n",
            "📍 QuickSort(0, 3) 開始，pivot=3 @ index 0\n",
            "陣列: [3, 25, 8, 13, 33, 119, 54, 84, 67, 41]\n",
            "  🔃 將 pivot arr[0]=3 和 arr[0]=3 交換\n",
            "  ✅ Pivot 交換後: [3, 25, 8, 13, 33, 119, 54, 84, 67, 41]\n",
            "\n",
            "📍 QuickSort(1, 3) 開始，pivot=25 @ index 1\n",
            "陣列: [3, 25, 8, 13, 33, 119, 54, 84, 67, 41]\n",
            "  🔃 將 pivot arr[1]=25 和 arr[3]=13 交換\n",
            "  ✅ Pivot 交換後: [3, 13, 8, 25, 33, 119, 54, 84, 67, 41]\n",
            "\n",
            "📍 QuickSort(1, 2) 開始，pivot=13 @ index 1\n",
            "陣列: [3, 13, 8, 25, 33, 119, 54, 84, 67, 41]\n",
            "  🔃 將 pivot arr[1]=13 和 arr[2]=8 交換\n",
            "  ✅ Pivot 交換後: [3, 8, 13, 25, 33, 119, 54, 84, 67, 41]\n",
            "\n",
            "📍 QuickSort(5, 9) 開始，pivot=119 @ index 5\n",
            "陣列: [3, 8, 13, 25, 33, 119, 54, 84, 67, 41]\n",
            "  🔃 將 pivot arr[5]=119 和 arr[9]=41 交換\n",
            "  ✅ Pivot 交換後: [3, 8, 13, 25, 33, 41, 54, 84, 67, 119]\n",
            "\n",
            "📍 QuickSort(5, 8) 開始，pivot=41 @ index 5\n",
            "陣列: [3, 8, 13, 25, 33, 41, 54, 84, 67, 119]\n",
            "  🔃 將 pivot arr[5]=41 和 arr[5]=41 交換\n",
            "  ✅ Pivot 交換後: [3, 8, 13, 25, 33, 41, 54, 84, 67, 119]\n",
            "\n",
            "📍 QuickSort(6, 8) 開始，pivot=54 @ index 6\n",
            "陣列: [3, 8, 13, 25, 33, 41, 54, 84, 67, 119]\n",
            "  🔃 將 pivot arr[6]=54 和 arr[6]=54 交換\n",
            "  ✅ Pivot 交換後: [3, 8, 13, 25, 33, 41, 54, 84, 67, 119]\n",
            "\n",
            "📍 QuickSort(7, 8) 開始，pivot=84 @ index 7\n",
            "陣列: [3, 8, 13, 25, 33, 41, 54, 84, 67, 119]\n",
            "  🔃 將 pivot arr[7]=84 和 arr[8]=67 交換\n",
            "  ✅ Pivot 交換後: [3, 8, 13, 25, 33, 41, 54, 67, 84, 119]\n",
            "\n",
            "✅ 排序完成: [3, 8, 13, 25, 33, 41, 54, 67, 84, 119]\n"
          ]
        }
      ],
      "source": [
        "def quick_sort(arr, start, end):\n",
        "    if start >= end:\n",
        "        return\n",
        "\n",
        "    pivot_idx = start\n",
        "    pivot = arr[pivot_idx]\n",
        "    left = start + 1\n",
        "    right = end\n",
        "\n",
        "    print(f\"\\n📍 QuickSort({start}, {end}) 開始，pivot={pivot} @ index {pivot_idx}\")\n",
        "    print(\"陣列:\", arr)\n",
        "\n",
        "    while left <= right:\n",
        "        while left <= right and arr[left] <= pivot:\n",
        "            left += 1\n",
        "        while left <= right and arr[right] >= pivot:\n",
        "            right -= 1\n",
        "\n",
        "        if left < right:\n",
        "            print(f\"  🔄 交換 arr[{left}]={arr[left]} 和 arr[{right}]={arr[right]}\")\n",
        "            arr[left], arr[right] = arr[right], arr[left]\n",
        "            print(\"  ➡️  交換後陣列:\", arr)\n",
        "\n",
        "    print(f\"  🔃 將 pivot arr[{pivot_idx}]={arr[pivot_idx]} 和 arr[{right}]={arr[right]} 交換\")\n",
        "    arr[pivot_idx], arr[right] = arr[right], arr[pivot_idx]\n",
        "    print(\"  ✅ Pivot 交換後:\", arr)\n",
        "\n",
        "    # 遞迴呼叫左右子陣列\n",
        "    quick_sort(arr, start, right - 1)\n",
        "    quick_sort(arr, right + 1, end)\n",
        "\n",
        "\n",
        "# 測試資料\n",
        "demo = [33, 67, 8, 13, 54, 119, 3, 84, 25, 41]\n",
        "print(\"🧪 原始資料:\", demo)\n",
        "quick_sort(demo, 0, len(demo) - 1)\n",
        "print(\"\\n✅ 排序完成:\", demo)\n"
      ]
    }
  ]
}